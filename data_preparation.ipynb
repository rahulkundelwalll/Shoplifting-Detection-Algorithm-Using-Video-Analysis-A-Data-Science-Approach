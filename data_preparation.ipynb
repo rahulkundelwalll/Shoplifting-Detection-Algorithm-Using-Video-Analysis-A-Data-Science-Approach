{
 "cells": [
  {
   "cell_type": "code",
   "execution_count": 1,
   "id": "27d3a408-9a45-4d3e-ab5e-3401089b86d4",
   "metadata": {},
   "outputs": [],
   "source": [
    "import cv2\n",
    "import os"
   ]
  },
  {
   "cell_type": "code",
   "execution_count": 2,
   "id": "f0a6f5cb-75fc-4e08-afa1-bd6eaf9c9093",
   "metadata": {},
   "outputs": [
    {
     "name": "stdout",
     "output_type": "stream",
     "text": [
      "Extraction complete!\n"
     ]
    }
   ],
   "source": [
    "import zipfile\n",
    "import os\n",
    "\n",
    "def unzip_file(zip_file, extract_to):\n",
    "    with zipfile.ZipFile(zip_file, 'r') as zip_ref:\n",
    "        zip_ref.extractall(extract_to)\n",
    "\n",
    "# Replace 'folder_archiv.zip' with the actual name of your ZIP file\n",
    "zip_file = 'archive.zip'\n",
    "\n",
    "# Replace 'extracted_folder' with the directory where you want to extract the contents\n",
    "extract_to = 'extracted_folder'\n",
    "\n",
    "# Create the extraction directory if it doesn't exist\n",
    "if not os.path.exists(extract_to):\n",
    "    os.makedirs(extract_to)\n",
    "\n",
    "# Call the function to unzip the file\n",
    "unzip_file(zip_file, extract_to)\n",
    "\n",
    "print(\"Extraction complete!\")\n"
   ]
  },
  {
   "cell_type": "code",
   "execution_count": 27,
   "id": "d5f2de90-65d5-456e-b97e-6f7b5c3354db",
   "metadata": {},
   "outputs": [],
   "source": [
    "import pandas as pd\n",
    "df = pd.read_csv(\"data/shoplifting.csv\")\n"
   ]
  },
  {
   "cell_type": "code",
   "execution_count": 28,
   "id": "5b3cc0c9-ef8d-46c8-bd71-7fcaff02d2d1",
   "metadata": {},
   "outputs": [],
   "source": [
    "df.drop(\"Shoplifting\",axis=1,inplace=True)"
   ]
  },
  {
   "cell_type": "code",
   "execution_count": 29,
   "id": "6cba0cea-bd90-4dfe-b359-f999d396ddd9",
   "metadata": {},
   "outputs": [
    {
     "data": {
      "text/html": [
       "<div>\n",
       "<style scoped>\n",
       "    .dataframe tbody tr th:only-of-type {\n",
       "        vertical-align: middle;\n",
       "    }\n",
       "\n",
       "    .dataframe tbody tr th {\n",
       "        vertical-align: top;\n",
       "    }\n",
       "\n",
       "    .dataframe thead th {\n",
       "        text-align: right;\n",
       "    }\n",
       "</style>\n",
       "<table border=\"1\" class=\"dataframe\">\n",
       "  <thead>\n",
       "    <tr style=\"text-align: right;\">\n",
       "      <th></th>\n",
       "      <th>Shoplifting001_x264_0</th>\n",
       "      <th>0</th>\n",
       "    </tr>\n",
       "  </thead>\n",
       "  <tbody>\n",
       "    <tr>\n",
       "      <th>0</th>\n",
       "      <td>Shoplifting001_x264_1</td>\n",
       "      <td>0</td>\n",
       "    </tr>\n",
       "    <tr>\n",
       "      <th>1</th>\n",
       "      <td>Shoplifting001_x264_2</td>\n",
       "      <td>0</td>\n",
       "    </tr>\n",
       "    <tr>\n",
       "      <th>2</th>\n",
       "      <td>Shoplifting001_x264_3</td>\n",
       "      <td>0</td>\n",
       "    </tr>\n",
       "    <tr>\n",
       "      <th>3</th>\n",
       "      <td>Shoplifting001_x264_4</td>\n",
       "      <td>0</td>\n",
       "    </tr>\n",
       "    <tr>\n",
       "      <th>4</th>\n",
       "      <td>Shoplifting001_x264_5</td>\n",
       "      <td>0</td>\n",
       "    </tr>\n",
       "  </tbody>\n",
       "</table>\n",
       "</div>"
      ],
      "text/plain": [
       "   Shoplifting001_x264_0  0\n",
       "0  Shoplifting001_x264_1  0\n",
       "1  Shoplifting001_x264_2  0\n",
       "2  Shoplifting001_x264_3  0\n",
       "3  Shoplifting001_x264_4  0\n",
       "4  Shoplifting001_x264_5  0"
      ]
     },
     "execution_count": 29,
     "metadata": {},
     "output_type": "execute_result"
    }
   ],
   "source": [
    "df.head()"
   ]
  },
  {
   "cell_type": "code",
   "execution_count": 30,
   "id": "e497611e-41e2-4224-b7f4-67fffa994ff1",
   "metadata": {},
   "outputs": [],
   "source": [
    "import pandas as pd\n",
    "\n",
    "# Assuming df is your DataFrame\n",
    "df[\"Shoplifting001_x264_0\"] = df[\"Shoplifting001_x264_0\"].apply(lambda x: \"data/Shoplifting/\" + x + \".mp4\" )\n",
    "\n",
    "# Display the updated DataFrame\n",
    "\n"
   ]
  },
  {
   "cell_type": "code",
   "execution_count": 31,
   "id": "db6752a6-51fa-47d8-a754-99cf57bf0167",
   "metadata": {},
   "outputs": [
    {
     "data": {
      "text/html": [
       "<div>\n",
       "<style scoped>\n",
       "    .dataframe tbody tr th:only-of-type {\n",
       "        vertical-align: middle;\n",
       "    }\n",
       "\n",
       "    .dataframe tbody tr th {\n",
       "        vertical-align: top;\n",
       "    }\n",
       "\n",
       "    .dataframe thead th {\n",
       "        text-align: right;\n",
       "    }\n",
       "</style>\n",
       "<table border=\"1\" class=\"dataframe\">\n",
       "  <thead>\n",
       "    <tr style=\"text-align: right;\">\n",
       "      <th></th>\n",
       "      <th>Shoplifting001_x264_0</th>\n",
       "      <th>0</th>\n",
       "    </tr>\n",
       "  </thead>\n",
       "  <tbody>\n",
       "    <tr>\n",
       "      <th>0</th>\n",
       "      <td>data/Shoplifting/Shoplifting001_x264_1.mp4</td>\n",
       "      <td>0</td>\n",
       "    </tr>\n",
       "    <tr>\n",
       "      <th>1</th>\n",
       "      <td>data/Shoplifting/Shoplifting001_x264_2.mp4</td>\n",
       "      <td>0</td>\n",
       "    </tr>\n",
       "    <tr>\n",
       "      <th>2</th>\n",
       "      <td>data/Shoplifting/Shoplifting001_x264_3.mp4</td>\n",
       "      <td>0</td>\n",
       "    </tr>\n",
       "    <tr>\n",
       "      <th>3</th>\n",
       "      <td>data/Shoplifting/Shoplifting001_x264_4.mp4</td>\n",
       "      <td>0</td>\n",
       "    </tr>\n",
       "    <tr>\n",
       "      <th>4</th>\n",
       "      <td>data/Shoplifting/Shoplifting001_x264_5.mp4</td>\n",
       "      <td>0</td>\n",
       "    </tr>\n",
       "  </tbody>\n",
       "</table>\n",
       "</div>"
      ],
      "text/plain": [
       "                        Shoplifting001_x264_0  0\n",
       "0  data/Shoplifting/Shoplifting001_x264_1.mp4  0\n",
       "1  data/Shoplifting/Shoplifting001_x264_2.mp4  0\n",
       "2  data/Shoplifting/Shoplifting001_x264_3.mp4  0\n",
       "3  data/Shoplifting/Shoplifting001_x264_4.mp4  0\n",
       "4  data/Shoplifting/Shoplifting001_x264_5.mp4  0"
      ]
     },
     "execution_count": 31,
     "metadata": {},
     "output_type": "execute_result"
    }
   ],
   "source": [
    "df.head()"
   ]
  },
  {
   "cell_type": "code",
   "execution_count": 32,
   "id": "4af62340-af7c-462d-8494-3d228cdc33d3",
   "metadata": {},
   "outputs": [],
   "source": [
    "df = df.rename(columns={'Shoplifting001_x264_0': 'path', '0': 'target'})"
   ]
  },
  {
   "cell_type": "code",
   "execution_count": 33,
   "id": "8264ff66-1a73-479e-b132-a3cb734f0cbb",
   "metadata": {},
   "outputs": [
    {
     "data": {
      "text/html": [
       "<div>\n",
       "<style scoped>\n",
       "    .dataframe tbody tr th:only-of-type {\n",
       "        vertical-align: middle;\n",
       "    }\n",
       "\n",
       "    .dataframe tbody tr th {\n",
       "        vertical-align: top;\n",
       "    }\n",
       "\n",
       "    .dataframe thead th {\n",
       "        text-align: right;\n",
       "    }\n",
       "</style>\n",
       "<table border=\"1\" class=\"dataframe\">\n",
       "  <thead>\n",
       "    <tr style=\"text-align: right;\">\n",
       "      <th></th>\n",
       "      <th>path</th>\n",
       "      <th>target</th>\n",
       "    </tr>\n",
       "  </thead>\n",
       "  <tbody>\n",
       "    <tr>\n",
       "      <th>0</th>\n",
       "      <td>data/Shoplifting/Shoplifting001_x264_1.mp4</td>\n",
       "      <td>0</td>\n",
       "    </tr>\n",
       "    <tr>\n",
       "      <th>1</th>\n",
       "      <td>data/Shoplifting/Shoplifting001_x264_2.mp4</td>\n",
       "      <td>0</td>\n",
       "    </tr>\n",
       "    <tr>\n",
       "      <th>2</th>\n",
       "      <td>data/Shoplifting/Shoplifting001_x264_3.mp4</td>\n",
       "      <td>0</td>\n",
       "    </tr>\n",
       "    <tr>\n",
       "      <th>3</th>\n",
       "      <td>data/Shoplifting/Shoplifting001_x264_4.mp4</td>\n",
       "      <td>0</td>\n",
       "    </tr>\n",
       "    <tr>\n",
       "      <th>4</th>\n",
       "      <td>data/Shoplifting/Shoplifting001_x264_5.mp4</td>\n",
       "      <td>0</td>\n",
       "    </tr>\n",
       "  </tbody>\n",
       "</table>\n",
       "</div>"
      ],
      "text/plain": [
       "                                         path  target\n",
       "0  data/Shoplifting/Shoplifting001_x264_1.mp4       0\n",
       "1  data/Shoplifting/Shoplifting001_x264_2.mp4       0\n",
       "2  data/Shoplifting/Shoplifting001_x264_3.mp4       0\n",
       "3  data/Shoplifting/Shoplifting001_x264_4.mp4       0\n",
       "4  data/Shoplifting/Shoplifting001_x264_5.mp4       0"
      ]
     },
     "execution_count": 33,
     "metadata": {},
     "output_type": "execute_result"
    }
   ],
   "source": [
    "df.head()"
   ]
  },
  {
   "cell_type": "code",
   "execution_count": 63,
   "id": "efc5ea07-72b6-4d51-b7ea-89e973eafc72",
   "metadata": {},
   "outputs": [
    {
     "name": "stdout",
     "output_type": "stream",
     "text": [
      "Frame extraction completed.\n"
     ]
    }
   ],
   "source": [
    "import os\n",
    "import cv2\n",
    "import pandas as pd\n",
    "\n",
    "# Function to extract frames from a video\n",
    "def extract_frames(video_path, target, output_dir, start_index):\n",
    "    frame_count = 0\n",
    "\n",
    "    # Open the video file\n",
    "    cap = cv2.VideoCapture(video_path)\n",
    "\n",
    "    # Loop through the video frames\n",
    "    while cap.isOpened():\n",
    "        ret, frame = cap.read()\n",
    "        if not ret:\n",
    "            break\n",
    "\n",
    "        # Save the frame based on the target\n",
    "        if target == 0:\n",
    "            frame_dir = os.path.join(output_dir, \"normal\")\n",
    "        else:\n",
    "            frame_dir = os.path.join(output_dir, \"abnormal\")\n",
    "\n",
    "        if not os.path.exists(frame_dir):\n",
    "            os.makedirs(frame_dir)\n",
    "\n",
    "        cv2.imwrite(os.path.join(frame_dir, f\"frame_{start_index + frame_count}.jpg\"), frame)\n",
    "        frame_count += 1\n",
    "\n",
    "    cap.release()\n",
    "\n",
    "# Read the DataFrame\n",
    "# df = pd.read_csv(\"your_dataframe.csv\")  # Replace \"your_dataframe.csv\" with the actual CSV file path\n",
    "\n",
    "# Create output directory if it doesn't exist\n",
    "output_dir = \"output\"\n",
    "if not os.path.exists(output_dir):\n",
    "    os.makedirs(output_dir)\n",
    "\n",
    "i = 0\n",
    "# Iterate through each row of the DataFrame\n",
    "for index, row in df.iterrows():\n",
    "    video_path = row['path'].strip()\n",
    "    target = row['target']\n",
    "\n",
    "    # Extract frames based on the target\n",
    "    extract_frames(video_path, target, output_dir, i)\n",
    "    i =i+ 1000\n",
    "\n",
    "print(\"Frame extraction completed.\")\n"
   ]
  },
  {
   "cell_type": "code",
   "execution_count": 55,
   "id": "4416cab3-27ce-4b95-a2b4-ec2310222c76",
   "metadata": {},
   "outputs": [
    {
     "data": {
      "text/html": [
       "<div>\n",
       "<style scoped>\n",
       "    .dataframe tbody tr th:only-of-type {\n",
       "        vertical-align: middle;\n",
       "    }\n",
       "\n",
       "    .dataframe tbody tr th {\n",
       "        vertical-align: top;\n",
       "    }\n",
       "\n",
       "    .dataframe thead th {\n",
       "        text-align: right;\n",
       "    }\n",
       "</style>\n",
       "<table border=\"1\" class=\"dataframe\">\n",
       "  <thead>\n",
       "    <tr style=\"text-align: right;\">\n",
       "      <th></th>\n",
       "      <th>path</th>\n",
       "      <th>target</th>\n",
       "    </tr>\n",
       "  </thead>\n",
       "  <tbody>\n",
       "    <tr>\n",
       "      <th>0</th>\n",
       "      <td>data/Shoplifting/Shoplifting001_x264_1.mp4</td>\n",
       "      <td>0</td>\n",
       "    </tr>\n",
       "    <tr>\n",
       "      <th>1</th>\n",
       "      <td>data/Shoplifting/Shoplifting001_x264_2.mp4</td>\n",
       "      <td>0</td>\n",
       "    </tr>\n",
       "    <tr>\n",
       "      <th>2</th>\n",
       "      <td>data/Shoplifting/Shoplifting001_x264_3.mp4</td>\n",
       "      <td>0</td>\n",
       "    </tr>\n",
       "    <tr>\n",
       "      <th>3</th>\n",
       "      <td>data/Shoplifting/Shoplifting001_x264_4.mp4</td>\n",
       "      <td>0</td>\n",
       "    </tr>\n",
       "    <tr>\n",
       "      <th>4</th>\n",
       "      <td>data/Shoplifting/Shoplifting001_x264_5.mp4</td>\n",
       "      <td>0</td>\n",
       "    </tr>\n",
       "  </tbody>\n",
       "</table>\n",
       "</div>"
      ],
      "text/plain": [
       "                                         path  target\n",
       "0  data/Shoplifting/Shoplifting001_x264_1.mp4       0\n",
       "1  data/Shoplifting/Shoplifting001_x264_2.mp4       0\n",
       "2  data/Shoplifting/Shoplifting001_x264_3.mp4       0\n",
       "3  data/Shoplifting/Shoplifting001_x264_4.mp4       0\n",
       "4  data/Shoplifting/Shoplifting001_x264_5.mp4       0"
      ]
     },
     "execution_count": 55,
     "metadata": {},
     "output_type": "execute_result"
    }
   ],
   "source": [
    "df.head()"
   ]
  },
  {
   "cell_type": "code",
   "execution_count": 65,
   "id": "cc81e495-a071-4b0c-bbdc-dde85ba7826b",
   "metadata": {},
   "outputs": [
    {
     "name": "stdout",
     "output_type": "stream",
     "text": [
      "Images moved to the test/normal directory.\n"
     ]
    }
   ],
   "source": [
    "import os\n",
    "import random\n",
    "import shutil\n",
    "\n",
    "# Define the paths\n",
    "output_normal_dir = \"output/normal\"\n",
    "test_normal_dir = \"test/normal\"\n",
    "\n",
    "# Create the test/normal directory if it doesn't exist\n",
    "if not os.path.exists(test_normal_dir):\n",
    "    os.makedirs(test_normal_dir)\n",
    "\n",
    "# List all files in the output/normal directory\n",
    "files = os.listdir(output_normal_dir)\n",
    "\n",
    "# Calculate the number of files to move (20%)\n",
    "num_files_to_move = int(0.2 * len(files))\n",
    "\n",
    "# Randomly select files to move\n",
    "files_to_move = random.sample(files, num_files_to_move)\n",
    "\n",
    "# Move the selected files to the test/normal directory\n",
    "for file_name in files_to_move:\n",
    "    src = os.path.join(output_normal_dir, file_name)\n",
    "    dst = os.path.join(test_normal_dir, file_name)\n",
    "    shutil.move(src, dst)\n",
    "\n",
    "print(\"Images moved to the test/normal directory.\")\n"
   ]
  },
  {
   "cell_type": "code",
   "execution_count": 66,
   "id": "80aa8c3a-55c3-49e5-97cd-1bce6dbff4a9",
   "metadata": {},
   "outputs": [
    {
     "name": "stdout",
     "output_type": "stream",
     "text": [
      "Images moved to the test/normal directory.\n"
     ]
    }
   ],
   "source": [
    "import os\n",
    "import random\n",
    "import shutil\n",
    "\n",
    "# Define the paths\n",
    "output_normal_dir = \"output/abnormal\"\n",
    "test_normal_dir = \"test/abnormal\"\n",
    "\n",
    "# Create the test/normal directory if it doesn't exist\n",
    "if not os.path.exists(test_normal_dir):\n",
    "    os.makedirs(test_normal_dir)\n",
    "\n",
    "# List all files in the output/normal directory\n",
    "files = os.listdir(output_normal_dir)\n",
    "\n",
    "# Calculate the number of files to move (20%)\n",
    "num_files_to_move = int(0.2 * len(files))\n",
    "\n",
    "# Randomly select files to move\n",
    "files_to_move = random.sample(files, num_files_to_move)\n",
    "\n",
    "# Move the selected files to the test/normal directory\n",
    "for file_name in files_to_move:\n",
    "    src = os.path.join(output_normal_dir, file_name)\n",
    "    dst = os.path.join(test_normal_dir, file_name)\n",
    "    shutil.move(src, dst)\n",
    "\n",
    "print(\"Images moved to the test/normal directory.\")"
   ]
  },
  {
   "cell_type": "code",
   "execution_count": null,
   "id": "097286cf-a4f7-4ba5-bf76-95855f14a76b",
   "metadata": {},
   "outputs": [],
   "source": []
  }
 ],
 "metadata": {
  "kernelspec": {
   "display_name": "Python 3 (ipykernel)",
   "language": "python",
   "name": "python3"
  },
  "language_info": {
   "codemirror_mode": {
    "name": "ipython",
    "version": 3
   },
   "file_extension": ".py",
   "mimetype": "text/x-python",
   "name": "python",
   "nbconvert_exporter": "python",
   "pygments_lexer": "ipython3",
   "version": "3.10.8"
  }
 },
 "nbformat": 4,
 "nbformat_minor": 5
}
